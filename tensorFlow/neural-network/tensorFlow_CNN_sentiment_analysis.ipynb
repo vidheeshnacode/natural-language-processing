{
  "cells": [
    {
      "cell_type": "markdown",
      "metadata": {
        "id": "D9ZpI8si2qLX"
      },
      "source": [
        "# Neural Network"
      ]
    },
    {
      "cell_type": "code",
      "execution_count": null,
      "metadata": {
        "id": "cVeXY1ax2qLd"
      },
      "outputs": [],
      "source": [
        "# [1]\n",
        "\n",
        "# Importing required libraries and packages \n",
        "import tensorflow as tf\n",
        "import pandas as pd\n",
        "import matplotlib.pyplot as plt\n",
        "\n",
        "from tensorflow.keras.preprocessing.text import Tokenizer\n",
        "from tensorflow.keras.preprocessing.sequence import pad_sequences\n",
        "\n",
        "%matplotlib inline"
      ]
    },
    {
      "cell_type": "markdown",
      "metadata": {
        "id": "hMT3Acy92qLf"
      },
      "source": [
        "## Get IMdb data"
      ]
    },
    {
      "cell_type": "code",
      "execution_count": null,
      "metadata": {
        "id": "CRK2roWZ2qLf"
      },
      "outputs": [],
      "source": [
        "# [2]\n",
        "\n",
        "# Reading data from CSV and converting it to as Dataframe using Pandas\n",
        "\n",
        "# imdb_data = pd.read_csv(\"./data/IMDB Dataset.csv\")\n",
        "\n",
        "# Temporarily reading the raw data from github for convineince\n",
        "imdb_data = pd.read_csv(\"https://raw.githubusercontent.com/vidheeshnacode/CIS668/main/data/IMDB%20Dataset.csv\")\n",
        "\n",
        "\n",
        "# Processing the target variable\n",
        "\n",
        "# Mapping sentiment column values 'positive' to 1 and 'negative' to 0\n",
        "imdb_data[\"sentiment\"] = imdb_data[\"sentiment\"].map({\"positive\": 1, \"negative\":0})"
      ]
    },
    {
      "cell_type": "code",
      "source": [
        "# [3]\n",
        "\n",
        "# Dataset contains 2 column and 50000 rows.\n",
        "# Columns: review, sentiment of string and int64 datatype respectively\n",
        "imdb_data.shape"
      ],
      "metadata": {
        "colab": {
          "base_uri": "https://localhost:8080/"
        },
        "id": "dzX9e5In-ypS",
        "outputId": "bc5685ba-4e55-47ae-e8ba-5d6d6620d412"
      },
      "execution_count": null,
      "outputs": [
        {
          "output_type": "execute_result",
          "data": {
            "text/plain": [
              "(50000, 2)"
            ]
          },
          "metadata": {},
          "execution_count": 3
        }
      ]
    },
    {
      "cell_type": "code",
      "execution_count": null,
      "metadata": {
        "id": "hg0PRyod2qLg"
      },
      "outputs": [],
      "source": [
        "# [4]\n",
        "\n",
        "# Splitting the dataset for training and testing\n",
        "\n",
        "# Assigning 50% of the data for training and 50% data for testing\n",
        "imdb_train = imdb_data[\"review\"].values[:25000]\n",
        "imdb_test = imdb_data[\"review\"].values[25000:]\n",
        "\n",
        "# Seperating sentiment labels for training and testing\n",
        "imdb_train_labels = imdb_data[\"sentiment\"].values[:25000]\n",
        "imdb_test_labels = imdb_data[\"sentiment\"].values[25000:]"
      ]
    },
    {
      "cell_type": "markdown",
      "metadata": {
        "id": "XTzkFAXc2qLg"
      },
      "source": [
        "### Hyperparameters"
      ]
    },
    {
      "cell_type": "code",
      "execution_count": null,
      "metadata": {
        "id": "5EZ5Tbw22qLh"
      },
      "outputs": [],
      "source": [
        "# [5]\n",
        "\n",
        "# Hyperparameters list makes it easier to quickly test different combinations\n",
        "# sentence shorter than max_length it will be padded, longer sentences will be truncated\n",
        "\n",
        "# Below values are to be used by Neural Network Models in the modeling section of the notebook.\n",
        "vocab_size = 10000 # Set voicabulary size that is to be referred by the model\n",
        "embedding_dim = 64 # Dimensionality of the pretrained word vectors\n",
        "max_length = 120 # Set max length of vectors"
      ]
    },
    {
      "cell_type": "markdown",
      "metadata": {
        "id": "InwWvwz62qLh"
      },
      "source": [
        "## Tokenize"
      ]
    },
    {
      "cell_type": "code",
      "execution_count": null,
      "metadata": {
        "id": "NlaZC9HC2qLi"
      },
      "outputs": [],
      "source": [
        "# [6]\n",
        "\n",
        "# Defining tokenizer to tokenize training data\n",
        "tokenizer = Tokenizer(num_words=10000, oov_token = \"<oov>\")\n",
        "tokenizer.fit_on_texts(imdb_train)\n",
        "word_index = tokenizer.word_index\n",
        "\n",
        "# Converting words to numbers and pad for the neural network to use it as input\n",
        "train_sequences = tokenizer.texts_to_sequences(imdb_train)\n",
        "train_padded = pad_sequences(train_sequences, maxlen=120, truncating=\"post\")\n",
        "\n",
        "# Tokenized using the word_index learned from the training data\n",
        "testing_sequences = tokenizer.texts_to_sequences(imdb_test)\n",
        "test_padded = pad_sequences(testing_sequences, maxlen=120, truncating=\"post\")"
      ]
    },
    {
      "cell_type": "markdown",
      "metadata": {
        "id": "AIa7wKgS2qLj"
      },
      "source": [
        "## Neural Network"
      ]
    },
    {
      "cell_type": "code",
      "execution_count": null,
      "metadata": {
        "colab": {
          "base_uri": "https://localhost:8080/"
        },
        "id": "UG5qG9Qe2qLj",
        "outputId": "4cb4f0fb-3e4f-4ef6-89a2-b7c56803ef0b"
      },
      "outputs": [
        {
          "output_type": "stream",
          "name": "stdout",
          "text": [
            "Model: \"sequential\"\n",
            "_________________________________________________________________\n",
            " Layer (type)                Output Shape              Param #   \n",
            "=================================================================\n",
            " embedding (Embedding)       (None, None, 64)          640000    \n",
            "                                                                 \n",
            " global_average_pooling1d (G  (None, 64)               0         \n",
            " lobalAveragePooling1D)                                          \n",
            "                                                                 \n",
            " dense (Dense)               (None, 6)                 390       \n",
            "                                                                 \n",
            " dense_1 (Dense)             (None, 1)                 7         \n",
            "                                                                 \n",
            "=================================================================\n",
            "Total params: 640,397\n",
            "Trainable params: 640,397\n",
            "Non-trainable params: 0\n",
            "_________________________________________________________________\n"
          ]
        }
      ],
      "source": [
        "# [7]\n",
        "\n",
        "# Creating Model\n",
        "\n",
        "# Create Sequential Model with 4 Layers.\n",
        "\n",
        "model = tf.keras.Sequential([\n",
        "    \n",
        "    # Embedding Layer: This layer converts vocab sized input dimension to dense vectors of size embedding dimensions\n",
        "    tf.keras.layers.Embedding(vocab_size, embedding_dim),\n",
        "\n",
        "    #  GlobalAveragePooling1D: This layer applying global average pooling operation for temporal data.\n",
        "    tf.keras.layers.GlobalAveragePooling1D(),\n",
        "\n",
        "    # Dense Layer: This layer computes the weighted averages from output of previous layers with RELU activation functions\n",
        "    tf.keras.layers.Dense(6, activation = 'relu'),\n",
        "\n",
        "    # Dense Layer: This layer computes the weighted averages from output of previous layers with Sigmoid activation functions\n",
        "    tf.keras.layers.Dense(1, activation = 'sigmoid')\n",
        "])\n",
        "\n",
        "# Print description of the Sequential Model\n",
        "model.summary()"
      ]
    },
    {
      "cell_type": "code",
      "execution_count": null,
      "metadata": {
        "id": "YP_pWwZH2qLk"
      },
      "outputs": [],
      "source": [
        "# [8]\n",
        "\n",
        "# Compiling model with binary_crossentropy loss function and Adam optimizer with\n",
        "# accuracy metric keeping track.\n",
        "\n",
        "model.compile(loss='binary_crossentropy', optimizer='adam', metrics=['accuracy'])"
      ]
    },
    {
      "cell_type": "code",
      "execution_count": null,
      "metadata": {
        "colab": {
          "base_uri": "https://localhost:8080/"
        },
        "id": "j4kA9ATS2qLl",
        "outputId": "b3b6fb9c-0f6a-4333-b009-8133e8480a31"
      },
      "outputs": [
        {
          "output_type": "stream",
          "name": "stdout",
          "text": [
            "Epoch 1/5\n",
            "782/782 [==============================] - 10s 11ms/step - loss: 0.5167 - accuracy: 0.7568 - val_loss: 0.3762 - val_accuracy: 0.8336\n",
            "Epoch 2/5\n",
            "782/782 [==============================] - 9s 11ms/step - loss: 0.3126 - accuracy: 0.8679 - val_loss: 0.3460 - val_accuracy: 0.8486\n",
            "Epoch 3/5\n",
            "782/782 [==============================] - 9s 11ms/step - loss: 0.2579 - accuracy: 0.8955 - val_loss: 0.3536 - val_accuracy: 0.8467\n",
            "Epoch 4/5\n",
            "782/782 [==============================] - 9s 11ms/step - loss: 0.2248 - accuracy: 0.9130 - val_loss: 0.3761 - val_accuracy: 0.8418\n",
            "Epoch 5/5\n",
            "782/782 [==============================] - 9s 11ms/step - loss: 0.1992 - accuracy: 0.9240 - val_loss: 0.4033 - val_accuracy: 0.8371\n"
          ]
        }
      ],
      "source": [
        "# [9]\n",
        "\n",
        "# Training the Sequential Model\n",
        "num_epochs = 5\n",
        "\n",
        "# Fitting the model to the training dataset with 'imdb_train' and\n",
        "# corresponding labels 'imdb_train_labels'.\n",
        "\n",
        "# Setting Validatation Data to padding sequences created from train_padded\n",
        "\n",
        "history = model.fit(train_padded, \n",
        "                    imdb_train_labels, \n",
        "                    epochs=num_epochs, \n",
        "                    validation_data=(test_padded, imdb_test_labels), \n",
        "                    validation_steps=30)"
      ]
    },
    {
      "cell_type": "code",
      "execution_count": null,
      "metadata": {
        "colab": {
          "base_uri": "https://localhost:8080/",
          "height": 541
        },
        "id": "9ZbmKawz2qLl",
        "outputId": "2a3cef86-2e6a-4144-9273-688b755b6035"
      },
      "outputs": [
        {
          "output_type": "display_data",
          "data": {
            "text/plain": [
              "<Figure size 432x288 with 1 Axes>"
            ],
            "image/png": "[encoded data removed]"
          },
          "metadata": {
            "needs_background": "light"
          }
        },
        {
          "output_type": "display_data",
          "data": {
            "text/plain": [
              "<Figure size 432x288 with 1 Axes>"
            ],
            "image/png": "[encoded data removed]"
          },
          "metadata": {
            "needs_background": "light"
          }
        }
      ],
      "source": [
        "# [10]\n",
        "\n",
        "# Plotting graph based on Epochs\n",
        "\n",
        "# Simple graph history of the model agains number of Epochs\n",
        "\n",
        "def plot_graphs(history, string):\n",
        "    plt.plot(history.history[string])\n",
        "    plt.plot(history.history['val_'+ string])\n",
        "    plt.xlabel(\"Epochs\")\n",
        "    plt.ylabel(string)\n",
        "    plt.legend([string, 'val_'+string])\n",
        "    plt.show()\n",
        "\n",
        "# Plot Accuracy of the model corresponding against Number of Epochs\n",
        "plot_graphs(history,'accuracy')\n",
        "\n",
        "# Plot Loss of the model corrensponding against Number of Epochs\n",
        "plot_graphs(history, 'loss')"
      ]
    },
    {
      "cell_type": "markdown",
      "metadata": {
        "id": "_SZhRqyb2qLm"
      },
      "source": [
        "## Convolutional Neural Network"
      ]
    },
    {
      "cell_type": "code",
      "execution_count": null,
      "metadata": {
        "colab": {
          "base_uri": "https://localhost:8080/"
        },
        "id": "Upc8HOEg2qLm",
        "outputId": "de25565b-77a2-4d5a-fe69-68944a9b4d40"
      },
      "outputs": [
        {
          "output_type": "stream",
          "name": "stdout",
          "text": [
            "Model: \"sequential_1\"\n",
            "_________________________________________________________________\n",
            " Layer (type)                Output Shape              Param #   \n",
            "=================================================================\n",
            " embedding_1 (Embedding)     (None, None, 64)          640000    \n",
            "                                                                 \n",
            " conv1d (Conv1D)             (None, None, 128)         24704     \n",
            "                                                                 \n",
            " global_max_pooling1d (Globa  (None, 128)              0         \n",
            " lMaxPooling1D)                                                  \n",
            "                                                                 \n",
            " dense_2 (Dense)             (None, 16)                2064      \n",
            "                                                                 \n",
            " dense_3 (Dense)             (None, 1)                 17        \n",
            "                                                                 \n",
            "=================================================================\n",
            "Total params: 666,785\n",
            "Trainable params: 666,785\n",
            "Non-trainable params: 0\n",
            "_________________________________________________________________\n"
          ]
        }
      ],
      "source": [
        "# [11]\n",
        "\n",
        "# Creating a Model\n",
        "\n",
        "# Create Sequential Convolutional Neural Network 5 Layers.\n",
        "\n",
        "model = tf.keras.Sequential([\n",
        "    \n",
        "    # One Embedding with input dimensions as vocab_size and 64 as output dimensions.\n",
        "    tf.keras.layers.Embedding(vocab_size, 64),\n",
        "\n",
        "    # One Dimensional Convolution Layer with Filter of 128, Kernel size 3 and RELU Activation Function\n",
        "    tf.keras.layers.Conv1D(128, 3, activation='relu'),\n",
        "\n",
        "    # One Dimensional Global Average Pooling layer for temporal data.\n",
        "    tf.keras.layers.GlobalMaxPooling1D(),\n",
        "\n",
        "    # Dense Layer with 16 Units and RELU Activation Function\n",
        "    tf.keras.layers.Dense(16, activation = 'relu'),\n",
        "\n",
        "    # Dense Layer with 1 Unit and RELU Activation Function\n",
        "    tf.keras.layers.Dense(1, activation = 'sigmoid')\n",
        "])\n",
        "\n",
        "# Print description of the Sequential CNN Model\n",
        "model.summary()"
      ]
    },
    {
      "cell_type": "code",
      "execution_count": null,
      "metadata": {
        "id": "ryHmprJc2qLm"
      },
      "outputs": [],
      "source": [
        "# [12]\n",
        "\n",
        "# Compiling model with binary_crossentropy loss function and Adam optimizer with\n",
        "# learning rate 0.0001 and accuracy metric to keep track.\n",
        "model.compile(loss='binary_crossentropy',\n",
        "              optimizer=tf.keras.optimizers.Adam(1e-4),\n",
        "              metrics=['accuracy'])"
      ]
    },
    {
      "cell_type": "markdown",
      "metadata": {
        "id": "ZGGzxyVu2qLn"
      },
      "source": [
        "### Train the model"
      ]
    },
    {
      "cell_type": "code",
      "execution_count": null,
      "metadata": {
        "colab": {
          "base_uri": "https://localhost:8080/"
        },
        "id": "t2yLeZDk2qLn",
        "outputId": "6f2653e8-0ca9-42da-fd27-c1bb83abb38e"
      },
      "outputs": [
        {
          "output_type": "stream",
          "name": "stdout",
          "text": [
            "Epoch 1/5\n",
            "782/782 [==============================] - 27s 33ms/step - loss: 0.6749 - accuracy: 0.6467 - val_loss: 0.6237 - val_accuracy: 0.6932\n",
            "Epoch 2/5\n",
            "782/782 [==============================] - 25s 32ms/step - loss: 0.5328 - accuracy: 0.7520 - val_loss: 0.4801 - val_accuracy: 0.7712\n",
            "Epoch 3/5\n",
            "782/782 [==============================] - 25s 32ms/step - loss: 0.4273 - accuracy: 0.8069 - val_loss: 0.4257 - val_accuracy: 0.7997\n",
            "Epoch 4/5\n",
            "782/782 [==============================] - 25s 32ms/step - loss: 0.3633 - accuracy: 0.8445 - val_loss: 0.3930 - val_accuracy: 0.8196\n",
            "Epoch 5/5\n",
            "782/782 [==============================] - 25s 32ms/step - loss: 0.3114 - accuracy: 0.8716 - val_loss: 0.3741 - val_accuracy: 0.8288\n"
          ]
        }
      ],
      "source": [
        "# [13]\n",
        "\n",
        "# Training new Sequential CNN Model\n",
        "\n",
        "# Fitting the model to the training dataset with 'imdb_train' and\n",
        "# corresponding labels 'imdb_train_labels'.\n",
        "\n",
        "# Setting Validatation Data to padding sequences created from train_padded\n",
        "epochs_num = 5\n",
        "history = model.fit(train_padded, \n",
        "                    imdb_train_labels, \n",
        "                    epochs=epochs_num,\n",
        "                    validation_data=(test_padded, imdb_test_labels), \n",
        "                    validation_steps=30)"
      ]
    },
    {
      "cell_type": "markdown",
      "metadata": {
        "id": "Hfl--IpF2qLo"
      },
      "source": [
        "### Make predictions on text samples"
      ]
    },
    {
      "cell_type": "code",
      "execution_count": null,
      "metadata": {
        "colab": {
          "base_uri": "https://localhost:8080/"
        },
        "id": "ViMwjP-02qLo",
        "outputId": "8fd04e9f-2ec8-4386-c1f4-b1029b83b834"
      },
      "outputs": [
        {
          "output_type": "stream",
          "name": "stdout",
          "text": [
            "1/1 [==============================] - 0s 106ms/step\n",
            "[[0.7841156]]\n"
          ]
        }
      ],
      "source": [
        "# [14]\n",
        "\n",
        "# Example predicting of a Positive sample\n",
        "\n",
        "# Sample text\n",
        "sample_text_to_predict = [\"The movie was cool. The animation and the graphics were out of this world. I would recommend this movie.\"]\n",
        "\n",
        "# Tokenize the sample\n",
        "pos_sequence = tokenizer.texts_to_sequences(sample_text_to_predict)\n",
        "\n",
        "# Padding all the sequences to the length of 20\n",
        "pos_padded = pad_sequences(pos_sequence, maxlen=20, truncating=\"post\")\n",
        "\n",
        "# Making the prediction\n",
        "prediction = model.predict(pos_padded)\n",
        "print(prediction)"
      ]
    },
    {
      "cell_type": "code",
      "execution_count": null,
      "metadata": {
        "colab": {
          "base_uri": "https://localhost:8080/"
        },
        "id": "RZAGg-XP2qLo",
        "outputId": "0589facb-47c5-4532-bafb-b6b1f2a94be7"
      },
      "outputs": [
        {
          "output_type": "stream",
          "name": "stdout",
          "text": [
            "1/1 [==============================] - 0s 18ms/step\n",
            "[[0.05059367]]\n"
          ]
        }
      ],
      "source": [
        "# [15]\n",
        "\n",
        "# Example predicting of a Negative sample\n",
        "\n",
        "# Sample text\n",
        "sample_text_to_predict = [\"The movie was not good. The animation and the graphics were terrible. I would not recommend this movie.\"]\n",
        "\n",
        "# Tokenize the sample\n",
        "neg_sequence = tokenizer.texts_to_sequences(sample_text_to_predict)\n",
        "\n",
        "# Padding all the sequences to the length of 20\n",
        "neg_padded = pad_sequences(neg_sequence, maxlen=20, truncating=\"post\")\n",
        "\n",
        "# Making the prediction\n",
        "prediction = model.predict(neg_padded)\n",
        "print(prediction)"
      ]
    },
    {
      "cell_type": "markdown",
      "metadata": {
        "id": "72xa6UJZ2qLp"
      },
      "source": [
        "### Plot learning curves"
      ]
    },
    {
      "cell_type": "code",
      "execution_count": null,
      "metadata": {
        "colab": {
          "base_uri": "https://localhost:8080/",
          "height": 541
        },
        "id": "BZ9JERb_2qLp",
        "outputId": "7e002546-9abc-4418-ae7c-2045f44f1a25"
      },
      "outputs": [
        {
          "output_type": "display_data",
          "data": {
            "text/plain": [
              "<Figure size 432x288 with 1 Axes>"
            ],
            "image/png": "[encoded data removed]"
          },
          "metadata": {
            "needs_background": "light"
          }
        },
        {
          "output_type": "display_data",
          "data": {
            "text/plain": [
              "<Figure size 432x288 with 1 Axes>"
            ],
            "image/png": "[encoded data removed]"
          },
          "metadata": {
            "needs_background": "light"
          }
        }
      ],
      "source": [
        "# [16]\n",
        "\n",
        "# Plotting loss and accuracy chart corrensponding to Epochs\n",
        "\n",
        "plot_graphs(history, 'accuracy')\n",
        "plot_graphs(history, 'loss')"
      ]
    }
  ],
  "metadata": {
    "colab": {
      "provenance": []
    },
    "kernelspec": {
      "display_name": "Python 3",
      "language": "python",
      "name": "python3"
    },
    "language_info": {
      "codemirror_mode": {
        "name": "ipython",
        "version": 3
      },
      "file_extension": ".py",
      "mimetype": "text/x-python",
      "name": "python",
      "nbconvert_exporter": "python",
      "pygments_lexer": "ipython3",
      "version": "3.7.3"
    }
  },
  "nbformat": 4,
  "nbformat_minor": 0
}