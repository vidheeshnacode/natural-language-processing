{
  "cells": [
    {
      "cell_type": "markdown",
      "metadata": {
        "id": "D9ZpI8si2qLX"
      },
      "source": [
        "# Neural Network"
      ]
    },
    {
      "cell_type": "code",
      "execution_count": 1,
      "metadata": {
        "id": "cVeXY1ax2qLd"
      },
      "outputs": [],
      "source": [
        "# Importing required libraries and packages \n",
        "import tensorflow as tf\n",
        "import pandas as pd\n",
        "import matplotlib.pyplot as plt\n",
        "\n",
        "from tensorflow.keras.preprocessing.text import Tokenizer\n",
        "from tensorflow.keras.preprocessing.sequence import pad_sequences\n",
        "\n",
        "%matplotlib inline"
      ]
    },
    {
      "cell_type": "markdown",
      "metadata": {
        "id": "hMT3Acy92qLf"
      },
      "source": [
        "## Get IMdb data"
      ]
    },
    {
      "cell_type": "code",
      "execution_count": 2,
      "metadata": {
        "id": "CRK2roWZ2qLf"
      },
      "outputs": [],
      "source": [
        "# Reading data from CSV and converting it to as Dataframe using Pandas\n",
        "\n",
        "# imdb_data = pd.read_csv(\"./data/IMDB Dataset.csv\")\n",
        "\n",
        "# Temporarily reading the raw data from github for convineince\n",
        "imdb_data = pd.read_csv(\"https://raw.githubusercontent.com/vidheeshnacode/CIS668/main/data/IMDB%20Dataset.csv\")\n",
        "\n",
        "\n",
        "# Processing the target variable\n",
        "\n",
        "# Mapping sentiment column values 'positive' to 1 and 'negative' to 0\n",
        "imdb_data[\"sentiment\"] = imdb_data[\"sentiment\"].map({\"positive\": 1, \"negative\":0})"
      ]
    },
    {
      "cell_type": "code",
      "source": [
        "# Dataset contains 2 column and 50000 rows.\n",
        "# Columns: review, sentiment of string and int64 datatype respectively\n",
        "imdb_data.shape"
      ],
      "metadata": {
        "colab": {
          "base_uri": "https://localhost:8080/"
        },
        "id": "dzX9e5In-ypS",
        "outputId": "7708eaf4-5994-4eb1-a2c4-3fed357561da"
      },
      "execution_count": 3,
      "outputs": [
        {
          "output_type": "execute_result",
          "data": {
            "text/plain": [
              "(50000, 2)"
            ]
          },
          "metadata": {},
          "execution_count": 3
        }
      ]
    },
    {
      "cell_type": "code",
      "execution_count": 4,
      "metadata": {
        "id": "hg0PRyod2qLg"
      },
      "outputs": [],
      "source": [
        "# Splitting the dataset for training and testing\n",
        "\n",
        "# Assigning 50% of the data for training and 50% data for testing\n",
        "imdb_train = imdb_data[\"review\"].values[:25000]\n",
        "imdb_test = imdb_data[\"review\"].values[25000:]\n",
        "\n",
        "# Seperating sentiment labels for training and testing\n",
        "imdb_train_labels = imdb_data[\"sentiment\"].values[:25000]\n",
        "imdb_test_labels = imdb_data[\"sentiment\"].values[25000:]"
      ]
    },
    {
      "cell_type": "markdown",
      "metadata": {
        "id": "XTzkFAXc2qLg"
      },
      "source": [
        "### Hyperparameters"
      ]
    },
    {
      "cell_type": "code",
      "execution_count": 5,
      "metadata": {
        "id": "5EZ5Tbw22qLh"
      },
      "outputs": [],
      "source": [
        "# Hyperparameters list makes it easier to quickly test different combinations\n",
        "# sentence shorter than max_length it will be padded, longer sentences will be truncated\n",
        "\n",
        "# Below values are to be used by Neural Network Models in the modeling section of the notebook.\n",
        "vocab_size = 10000 # Set voicabulary size that is to be referred by the model\n",
        "embedding_dim = 64 # Dimensionality of the pretrained word vectors\n",
        "max_length = 120 # Set max length of vectors"
      ]
    },
    {
      "cell_type": "markdown",
      "metadata": {
        "id": "InwWvwz62qLh"
      },
      "source": [
        "## Tokenize"
      ]
    },
    {
      "cell_type": "code",
      "execution_count": 6,
      "metadata": {
        "id": "NlaZC9HC2qLi"
      },
      "outputs": [],
      "source": [
        "# Defining tokenizer to tokenize training data\n",
        "tokenizer = Tokenizer(num_words=10000, oov_token = \"<oov>\")\n",
        "tokenizer.fit_on_texts(imdb_train)\n",
        "word_index = tokenizer.word_index\n",
        "\n",
        "# Converting words to numbers and pad for the neural network to use it as input\n",
        "train_sequences = tokenizer.texts_to_sequences(imdb_train)\n",
        "train_padded = pad_sequences(train_sequences, maxlen=120, truncating=\"post\")\n",
        "\n",
        "# Tokenized using the word_index learned from the training data\n",
        "testing_sequences = tokenizer.texts_to_sequences(imdb_test)\n",
        "test_padded = pad_sequences(testing_sequences, maxlen=120, truncating=\"post\")"
      ]
    },
    {
      "cell_type": "markdown",
      "metadata": {
        "id": "AIa7wKgS2qLj"
      },
      "source": [
        "## Neural Network"
      ]
    },
    {
      "cell_type": "code",
      "execution_count": 7,
      "metadata": {
        "colab": {
          "base_uri": "https://localhost:8080/"
        },
        "id": "UG5qG9Qe2qLj",
        "outputId": "ba917ef3-df91-47ce-df4f-1ba6b64187fe"
      },
      "outputs": [
        {
          "output_type": "stream",
          "name": "stdout",
          "text": [
            "Model: \"sequential\"\n",
            "_________________________________________________________________\n",
            " Layer (type)                Output Shape              Param #   \n",
            "=================================================================\n",
            " embedding (Embedding)       (None, None, 64)          640000    \n",
            "                                                                 \n",
            " global_average_pooling1d (G  (None, 64)               0         \n",
            " lobalAveragePooling1D)                                          \n",
            "                                                                 \n",
            " dense (Dense)               (None, 6)                 390       \n",
            "                                                                 \n",
            " dense_1 (Dense)             (None, 1)                 7         \n",
            "                                                                 \n",
            "=================================================================\n",
            "Total params: 640,397\n",
            "Trainable params: 640,397\n",
            "Non-trainable params: 0\n",
            "_________________________________________________________________\n"
          ]
        }
      ],
      "source": [
        "# Creating Model\n",
        "\n",
        "# Create Sequential Model with 4 Layers.\n",
        "\n",
        "model = tf.keras.Sequential([\n",
        "    \n",
        "    # Embedding Layer: This layer converts vocab sized input dimension to dense vectors of size embedding dimensions\n",
        "    tf.keras.layers.Embedding(vocab_size, embedding_dim),\n",
        "\n",
        "    #  GlobalAveragePooling1D: This layer applying global average pooling operation for temporal data.\n",
        "    tf.keras.layers.GlobalAveragePooling1D(),\n",
        "\n",
        "    # Dense Layer: This layer computes the weighted averages from output of previous layers with RELU activation functions\n",
        "    tf.keras.layers.Dense(6, activation = 'relu'),\n",
        "\n",
        "    # Dense Layer: This layer computes the weighted averages from output of previous layers with Sigmoid activation functions\n",
        "    tf.keras.layers.Dense(1, activation = 'sigmoid')\n",
        "])\n",
        "\n",
        "# Print description of the Sequential Model\n",
        "model.summary()"
      ]
    },
    {
      "cell_type": "code",
      "execution_count": 8,
      "metadata": {
        "id": "YP_pWwZH2qLk"
      },
      "outputs": [],
      "source": [
        "# Compiling model with binary_crossentropy loss function and Adam optimizer with\n",
        "# accuracy metric keeping track.\n",
        "\n",
        "model.compile(loss='binary_crossentropy', optimizer='adam', metrics=['accuracy'])"
      ]
    },
    {
      "cell_type": "code",
      "execution_count": 9,
      "metadata": {
        "colab": {
          "base_uri": "https://localhost:8080/"
        },
        "id": "j4kA9ATS2qLl",
        "outputId": "229ab656-1240-4577-d891-fe07238dcbe4"
      },
      "outputs": [
        {
          "output_type": "stream",
          "name": "stdout",
          "text": [
            "Epoch 1/5\n",
            "782/782 [==============================] - 11s 12ms/step - loss: 0.5117 - accuracy: 0.7617 - val_loss: 0.3726 - val_accuracy: 0.8383\n",
            "Epoch 2/5\n",
            "782/782 [==============================] - 9s 11ms/step - loss: 0.3109 - accuracy: 0.8711 - val_loss: 0.3551 - val_accuracy: 0.8412\n",
            "Epoch 3/5\n",
            "782/782 [==============================] - 9s 11ms/step - loss: 0.2560 - accuracy: 0.8970 - val_loss: 0.3607 - val_accuracy: 0.8414\n",
            "Epoch 4/5\n",
            "782/782 [==============================] - 9s 11ms/step - loss: 0.2239 - accuracy: 0.9129 - val_loss: 0.3761 - val_accuracy: 0.8414\n",
            "Epoch 5/5\n",
            "782/782 [==============================] - 9s 11ms/step - loss: 0.1981 - accuracy: 0.9240 - val_loss: 0.4038 - val_accuracy: 0.8371\n"
          ]
        }
      ],
      "source": [
        "# Training the Sequential Model\n",
        "num_epochs = 5\n",
        "\n",
        "# Fitting the model to the training dataset with 'imdb_train' and\n",
        "# corresponding labels 'imdb_train_labels'.\n",
        "\n",
        "# Setting Validatation Data to padding sequences created from train_padded\n",
        "\n",
        "history = model.fit(train_padded, \n",
        "                    imdb_train_labels, \n",
        "                    epochs=num_epochs, \n",
        "                    validation_data=(test_padded, imdb_test_labels), \n",
        "                    validation_steps=30)"
      ]
    },
    {
      "cell_type": "code",
      "execution_count": 10,
      "metadata": {
        "colab": {
          "base_uri": "https://localhost:8080/",
          "height": 541
        },
        "id": "9ZbmKawz2qLl",
        "outputId": "2e1c164e-77b2-4b58-9391-84e52317fc85"
      },
      "outputs": [
        {
          "output_type": "display_data",
          "data": {
            "text/plain": [
              "<Figure size 432x288 with 1 Axes>"
            ],
            "image/png": "[encoded data removed]"
          },
          "metadata": {
            "needs_background": "light"
          }
        },
        {
          "output_type": "display_data",
          "data": {
            "text/plain": [
              "<Figure size 432x288 with 1 Axes>"
            ],
            "image/png": "[encoded data removed]"
          },
          "metadata": {
            "needs_background": "light"
          }
        }
      ],
      "source": [
        "# Plotting graph based on Epochs\n",
        "\n",
        "# Simple graph history of the model agains number of Epochs\n",
        "\n",
        "def plot_graphs(history, string):\n",
        "    plt.plot(history.history[string])\n",
        "    plt.plot(history.history['val_'+ string])\n",
        "    plt.xlabel(\"Epochs\")\n",
        "    plt.ylabel(string)\n",
        "    plt.legend([string, 'val_'+string])\n",
        "    plt.show()\n",
        "\n",
        "# Plot Accuracy of the model corresponding against Number of Epochs\n",
        "plot_graphs(history,'accuracy')\n",
        "\n",
        "# Plot Loss of the model corrensponding against Number of Epochs\n",
        "plot_graphs(history, 'loss')"
      ]
    },
    {
      "cell_type": "markdown",
      "metadata": {
        "id": "_SZhRqyb2qLm"
      },
      "source": [
        "## Convolutional Neural Network"
      ]
    },
    {
      "cell_type": "code",
      "execution_count": 11,
      "metadata": {
        "colab": {
          "base_uri": "https://localhost:8080/"
        },
        "id": "Upc8HOEg2qLm",
        "outputId": "1fb84ea5-8e8e-4307-8386-8bbecbd5fae7"
      },
      "outputs": [
        {
          "output_type": "stream",
          "name": "stdout",
          "text": [
            "Model: \"sequential_1\"\n",
            "_________________________________________________________________\n",
            " Layer (type)                Output Shape              Param #   \n",
            "=================================================================\n",
            " embedding_1 (Embedding)     (None, None, 64)          640000    \n",
            "                                                                 \n",
            " conv1d (Conv1D)             (None, None, 128)         24704     \n",
            "                                                                 \n",
            " global_max_pooling1d (Globa  (None, 128)              0         \n",
            " lMaxPooling1D)                                                  \n",
            "                                                                 \n",
            " dense_2 (Dense)             (None, 16)                2064      \n",
            "                                                                 \n",
            " dense_3 (Dense)             (None, 1)                 17        \n",
            "                                                                 \n",
            "=================================================================\n",
            "Total params: 666,785\n",
            "Trainable params: 666,785\n",
            "Non-trainable params: 0\n",
            "_________________________________________________________________\n"
          ]
        }
      ],
      "source": [
        "# Creating a Model\n",
        "\n",
        "# Create Sequential Convolutional Neural Network 5 Layers.\n",
        "\n",
        "model = tf.keras.Sequential([\n",
        "    \n",
        "    # One Embedding with input dimensions as vocab_size and 64 as output dimensions.\n",
        "    tf.keras.layers.Embedding(vocab_size, 64),\n",
        "\n",
        "    # One Dimensional Convolution Layer with Filter of 128, Kernel size 3 and RELU Activation Function\n",
        "    tf.keras.layers.Conv1D(128, 3, activation='relu'),\n",
        "\n",
        "    # One Dimensional Global Average Pooling layer for temporal data.\n",
        "    tf.keras.layers.GlobalMaxPooling1D(),\n",
        "\n",
        "    # Dense Layer with 16 Units and RELU Activation Function\n",
        "    tf.keras.layers.Dense(16, activation = 'relu'),\n",
        "\n",
        "    # Dense Layer with 1 Unit and RELU Activation Function\n",
        "    tf.keras.layers.Dense(1, activation = 'sigmoid')\n",
        "])\n",
        "\n",
        "# Print description of the Sequential CNN Model\n",
        "model.summary()"
      ]
    },
    {
      "cell_type": "code",
      "execution_count": 12,
      "metadata": {
        "id": "ryHmprJc2qLm"
      },
      "outputs": [],
      "source": [
        "# Compiling model with binary_crossentropy loss function and Adam optimizer with\n",
        "# learning rate 0.0001 and accuracy metric to keep track.\n",
        "model.compile(loss='binary_crossentropy',\n",
        "              optimizer=tf.keras.optimizers.Adam(1e-4),\n",
        "              metrics=['accuracy'])"
      ]
    },
    {
      "cell_type": "markdown",
      "metadata": {
        "id": "ZGGzxyVu2qLn"
      },
      "source": [
        "### Train the model"
      ]
    },
    {
      "cell_type": "code",
      "execution_count": 13,
      "metadata": {
        "colab": {
          "base_uri": "https://localhost:8080/"
        },
        "id": "t2yLeZDk2qLn",
        "outputId": "4cfdf153-a094-4459-a8ed-29e1d5db0312"
      },
      "outputs": [
        {
          "output_type": "stream",
          "name": "stdout",
          "text": [
            "Epoch 1/5\n",
            "782/782 [==============================] - 26s 32ms/step - loss: 0.6774 - accuracy: 0.6361 - val_loss: 0.6314 - val_accuracy: 0.7305\n",
            "Epoch 2/5\n",
            "782/782 [==============================] - 27s 35ms/step - loss: 0.5598 - accuracy: 0.7537 - val_loss: 0.5024 - val_accuracy: 0.7685\n",
            "Epoch 3/5\n",
            "782/782 [==============================] - 26s 33ms/step - loss: 0.4445 - accuracy: 0.8006 - val_loss: 0.4329 - val_accuracy: 0.8020\n",
            "Epoch 4/5\n",
            "782/782 [==============================] - 26s 33ms/step - loss: 0.3760 - accuracy: 0.8353 - val_loss: 0.3976 - val_accuracy: 0.8185\n",
            "Epoch 5/5\n",
            "782/782 [==============================] - 27s 34ms/step - loss: 0.3238 - accuracy: 0.8633 - val_loss: 0.3766 - val_accuracy: 0.8278\n"
          ]
        }
      ],
      "source": [
        "# Training new Sequential CNN Model\n",
        "\n",
        "# Fitting the model to the training dataset with 'imdb_train' and\n",
        "# corresponding labels 'imdb_train_labels'.\n",
        "\n",
        "# Setting Validatation Data to padding sequences created from train_padded\n",
        "epochs_num = 5\n",
        "history = model.fit(train_padded, \n",
        "                    imdb_train_labels, \n",
        "                    epochs=epochs_num,\n",
        "                    validation_data=(test_padded, imdb_test_labels), \n",
        "                    validation_steps=30)"
      ]
    },
    {
      "cell_type": "markdown",
      "metadata": {
        "id": "Hfl--IpF2qLo"
      },
      "source": [
        "### Make predictions on text samples"
      ]
    },
    {
      "cell_type": "code",
      "execution_count": 14,
      "metadata": {
        "colab": {
          "base_uri": "https://localhost:8080/"
        },
        "id": "ViMwjP-02qLo",
        "outputId": "ecf69151-b9eb-4fa2-fc71-ea54eaa0d15a"
      },
      "outputs": [
        {
          "output_type": "stream",
          "name": "stdout",
          "text": [
            "1/1 [==============================] - 0s 112ms/step\n",
            "[[0.8383891]]\n"
          ]
        }
      ],
      "source": [
        "# Example predicting of a Positive sample\n",
        "\n",
        "# Sample text\n",
        "sample_text_to_predict = [\"The movie was cool. The animation and the graphics were out of this world. I would recommend this movie.\"]\n",
        "\n",
        "# Tokenize the sample\n",
        "pos_sequence = tokenizer.texts_to_sequences(sample_text_to_predict)\n",
        "\n",
        "# Padding all the sequences to the length of 20\n",
        "pos_padded = pad_sequences(pos_sequence, maxlen=20, truncating=\"post\")\n",
        "\n",
        "# Making the prediction\n",
        "prediction = model.predict(pos_padded)\n",
        "print(prediction)"
      ]
    },
    {
      "cell_type": "code",
      "execution_count": 15,
      "metadata": {
        "colab": {
          "base_uri": "https://localhost:8080/"
        },
        "id": "RZAGg-XP2qLo",
        "outputId": "0cbbf557-9e60-4f98-b4c5-f80995c3dcf9"
      },
      "outputs": [
        {
          "output_type": "stream",
          "name": "stdout",
          "text": [
            "1/1 [==============================] - 0s 18ms/step\n",
            "[[0.16464573]]\n"
          ]
        }
      ],
      "source": [
        "# Example predicting of a Negative sample\n",
        "\n",
        "# Sample text\n",
        "sample_text_to_predict = [\"The movie was not good. The animation and the graphics were terrible. I would not recommend this movie.\"]\n",
        "\n",
        "# Tokenize the sample\n",
        "neg_sequence = tokenizer.texts_to_sequences(sample_text_to_predict)\n",
        "\n",
        "# Padding all the sequences to the length of 20\n",
        "neg_padded = pad_sequences(neg_sequence, maxlen=20, truncating=\"post\")\n",
        "\n",
        "# Making the prediction\n",
        "prediction = model.predict(neg_padded)\n",
        "print(prediction)"
      ]
    },
    {
      "cell_type": "markdown",
      "metadata": {
        "id": "72xa6UJZ2qLp"
      },
      "source": [
        "### Plot learning curves"
      ]
    },
    {
      "cell_type": "code",
      "execution_count": 16,
      "metadata": {
        "colab": {
          "base_uri": "https://localhost:8080/",
          "height": 541
        },
        "id": "BZ9JERb_2qLp",
        "outputId": "d60c2cfd-d6f7-4de1-9431-551a5f516d5c"
      },
      "outputs": [
        {
          "output_type": "display_data",
          "data": {
            "text/plain": [
              "<Figure size 432x288 with 1 Axes>"
            ],
            "image/png": "[encoded data removed]"
          },
          "metadata": {
            "needs_background": "light"
          }
        },
        {
          "output_type": "display_data",
          "data": {
            "text/plain": [
              "<Figure size 432x288 with 1 Axes>"
            ],
            "image/png": "[encoded data removed]"
          },
          "metadata": {
            "needs_background": "light"
          }
        }
      ],
      "source": [
        "# Plotting loss and accuracy chart corrensponding to Epochs\n",
        "\n",
        "plot_graphs(history, 'accuracy')\n",
        "plot_graphs(history, 'loss')"
      ]
    },
    {
      "cell_type": "code",
      "execution_count": 16,
      "metadata": {
        "id": "xrcK7lg-2qLp"
      },
      "outputs": [],
      "source": []
    }
  ],
  "metadata": {
    "colab": {
      "provenance": []
    },
    "kernelspec": {
      "display_name": "Python 3",
      "language": "python",
      "name": "python3"
    },
    "language_info": {
      "codemirror_mode": {
        "name": "ipython",
        "version": 3
      },
      "file_extension": ".py",
      "mimetype": "text/x-python",
      "name": "python",
      "nbconvert_exporter": "python",
      "pygments_lexer": "ipython3",
      "version": "3.7.3"
    }
  },
  "nbformat": 4,
  "nbformat_minor": 0
}